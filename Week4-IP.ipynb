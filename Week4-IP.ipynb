{
  "nbformat": 4,
  "nbformat_minor": 0,
  "metadata": {
    "colab": {
      "name": "Copy of Moringa_Data_Science_Prep_W4_Independent_Project_2021_08_Phylis_Amai_Python_Notebook",
      "provenance": [],
      "collapsed_sections": [],
      "toc_visible": true
    },
    "kernelspec": {
      "display_name": "Python 3",
      "name": "python3"
    }
  },
  "cells": [
    {
      "cell_type": "markdown",
      "metadata": {
        "id": "w3WxqVZI4KWf"
      },
      "source": [
        "**AUTOLIB CAR SHARING USAGE**"
      ]
    },
    {
      "cell_type": "markdown",
      "metadata": {
        "id": "WEnSzYc57KBP"
      },
      "source": [
        "# 1.0 Importing Libraries"
      ]
    },
    {
      "cell_type": "code",
      "metadata": {
        "id": "rC6SEVBh3PxO"
      },
      "source": [
        "# Importing pandas \n",
        "import pandas as pd\n",
        "\n",
        "# Importing numpy\n",
        "import numpy as np\n",
        "\n",
        "# importing datetime\n",
        "import datetime \n"
      ],
      "execution_count": 268,
      "outputs": []
    },
    {
      "cell_type": "markdown",
      "metadata": {
        "id": "oisRc2_sP1Rw"
      },
      "source": [
        "# 1.0.1 Loading *Data*"
      ]
    },
    {
      "cell_type": "code",
      "metadata": {
        "id": "4FX0VzvM7bRm"
      },
      "source": [
        "# Load our dataset into the environment\n",
        "data =pd.read_csv('http://bit.ly/autolib_dataset', encoding = 'latin1')\n"
      ],
      "execution_count": 269,
      "outputs": []
    },
    {
      "cell_type": "code",
      "metadata": {
        "id": "fz3-ZE5R8nB9",
        "colab": {
          "base_uri": "https://localhost:8080/",
          "height": 450
        },
        "outputId": "82cea389-460b-48e4-ae32-e5966282952f"
      },
      "source": [
        "# Reading the first 5 rows\n",
        "data.head()"
      ],
      "execution_count": 270,
      "outputs": [
        {
          "output_type": "execute_result",
          "data": {
            "text/html": [
              "<div>\n",
              "<style scoped>\n",
              "    .dataframe tbody tr th:only-of-type {\n",
              "        vertical-align: middle;\n",
              "    }\n",
              "\n",
              "    .dataframe tbody tr th {\n",
              "        vertical-align: top;\n",
              "    }\n",
              "\n",
              "    .dataframe thead th {\n",
              "        text-align: right;\n",
              "    }\n",
              "</style>\n",
              "<table border=\"1\" class=\"dataframe\">\n",
              "  <thead>\n",
              "    <tr style=\"text-align: right;\">\n",
              "      <th></th>\n",
              "      <th>Address</th>\n",
              "      <th>Cars</th>\n",
              "      <th>Bluecar counter</th>\n",
              "      <th>Utilib counter</th>\n",
              "      <th>Utilib 1.4 counter</th>\n",
              "      <th>Charge Slots</th>\n",
              "      <th>Charging Status</th>\n",
              "      <th>City</th>\n",
              "      <th>Displayed comment</th>\n",
              "      <th>ID</th>\n",
              "      <th>Kind</th>\n",
              "      <th>Geo point</th>\n",
              "      <th>Postal code</th>\n",
              "      <th>Public name</th>\n",
              "      <th>Rental status</th>\n",
              "      <th>Scheduled at</th>\n",
              "      <th>Slots</th>\n",
              "      <th>Station type</th>\n",
              "      <th>Status</th>\n",
              "      <th>Subscription status</th>\n",
              "      <th>year</th>\n",
              "      <th>month</th>\n",
              "      <th>day</th>\n",
              "      <th>hour</th>\n",
              "      <th>minute</th>\n",
              "    </tr>\n",
              "  </thead>\n",
              "  <tbody>\n",
              "    <tr>\n",
              "      <th>0</th>\n",
              "      <td>2 Avenue de Suffren</td>\n",
              "      <td>0</td>\n",
              "      <td>0</td>\n",
              "      <td>0</td>\n",
              "      <td>0</td>\n",
              "      <td>0</td>\n",
              "      <td>nonexistent</td>\n",
              "      <td>Paris</td>\n",
              "      <td>NaN</td>\n",
              "      <td>paris-suffren-2</td>\n",
              "      <td>STATION</td>\n",
              "      <td>48.857, 2.2917</td>\n",
              "      <td>75015</td>\n",
              "      <td>Paris/Suffren/2</td>\n",
              "      <td>operational</td>\n",
              "      <td>NaN</td>\n",
              "      <td>2</td>\n",
              "      <td>station</td>\n",
              "      <td>ok</td>\n",
              "      <td>nonexistent</td>\n",
              "      <td>2018</td>\n",
              "      <td>4</td>\n",
              "      <td>8</td>\n",
              "      <td>11</td>\n",
              "      <td>43</td>\n",
              "    </tr>\n",
              "    <tr>\n",
              "      <th>1</th>\n",
              "      <td>145 Rue Raymond Losserand</td>\n",
              "      <td>6</td>\n",
              "      <td>6</td>\n",
              "      <td>0</td>\n",
              "      <td>0</td>\n",
              "      <td>0</td>\n",
              "      <td>operational</td>\n",
              "      <td>Paris</td>\n",
              "      <td>NaN</td>\n",
              "      <td>paris-raymondlosserand-145</td>\n",
              "      <td>STATION</td>\n",
              "      <td>48.83126, 2.313088</td>\n",
              "      <td>75014</td>\n",
              "      <td>Paris/Raymond Losserand/145</td>\n",
              "      <td>operational</td>\n",
              "      <td>NaN</td>\n",
              "      <td>0</td>\n",
              "      <td>station</td>\n",
              "      <td>ok</td>\n",
              "      <td>nonexistent</td>\n",
              "      <td>2018</td>\n",
              "      <td>4</td>\n",
              "      <td>6</td>\n",
              "      <td>7</td>\n",
              "      <td>24</td>\n",
              "    </tr>\n",
              "    <tr>\n",
              "      <th>2</th>\n",
              "      <td>2 Avenue John Fitzgerald Kennedy</td>\n",
              "      <td>3</td>\n",
              "      <td>3</td>\n",
              "      <td>0</td>\n",
              "      <td>2</td>\n",
              "      <td>0</td>\n",
              "      <td>operational</td>\n",
              "      <td>Le Bourget</td>\n",
              "      <td>NaN</td>\n",
              "      <td>lebourget-johnfitzgeraldkennedy-2</td>\n",
              "      <td>STATION</td>\n",
              "      <td>48.938103, 2.4286035</td>\n",
              "      <td>93350</td>\n",
              "      <td>Le Bourget/John Fitzgerald Kennedy/2</td>\n",
              "      <td>operational</td>\n",
              "      <td>NaN</td>\n",
              "      <td>1</td>\n",
              "      <td>station</td>\n",
              "      <td>ok</td>\n",
              "      <td>nonexistent</td>\n",
              "      <td>2018</td>\n",
              "      <td>4</td>\n",
              "      <td>3</td>\n",
              "      <td>20</td>\n",
              "      <td>14</td>\n",
              "    </tr>\n",
              "    <tr>\n",
              "      <th>3</th>\n",
              "      <td>51 Rue EugÃÂ¨ne OudinÃÂ©</td>\n",
              "      <td>3</td>\n",
              "      <td>3</td>\n",
              "      <td>1</td>\n",
              "      <td>0</td>\n",
              "      <td>1</td>\n",
              "      <td>operational</td>\n",
              "      <td>Paris</td>\n",
              "      <td>NaN</td>\n",
              "      <td>paris-eugeneoudine-51</td>\n",
              "      <td>STATION</td>\n",
              "      <td>48.8250327, 2.3725162</td>\n",
              "      <td>75013</td>\n",
              "      <td>Paris/EugÃÂ¨ne OudinÃÂ©/51</td>\n",
              "      <td>operational</td>\n",
              "      <td>NaN</td>\n",
              "      <td>2</td>\n",
              "      <td>station</td>\n",
              "      <td>ok</td>\n",
              "      <td>nonexistent</td>\n",
              "      <td>2018</td>\n",
              "      <td>4</td>\n",
              "      <td>4</td>\n",
              "      <td>4</td>\n",
              "      <td>37</td>\n",
              "    </tr>\n",
              "    <tr>\n",
              "      <th>4</th>\n",
              "      <td>6 avenue de la Porte de Champerret</td>\n",
              "      <td>3</td>\n",
              "      <td>3</td>\n",
              "      <td>0</td>\n",
              "      <td>0</td>\n",
              "      <td>0</td>\n",
              "      <td>nonexistent</td>\n",
              "      <td>Paris</td>\n",
              "      <td>NaN</td>\n",
              "      <td>paris-portedechamperret-6</td>\n",
              "      <td>PARKING</td>\n",
              "      <td>48.8862632, 2.2874511</td>\n",
              "      <td>75017</td>\n",
              "      <td>Paris/Porte de Champerret/6</td>\n",
              "      <td>operational</td>\n",
              "      <td>NaN</td>\n",
              "      <td>3</td>\n",
              "      <td>station</td>\n",
              "      <td>ok</td>\n",
              "      <td>nonexistent</td>\n",
              "      <td>2018</td>\n",
              "      <td>4</td>\n",
              "      <td>8</td>\n",
              "      <td>17</td>\n",
              "      <td>23</td>\n",
              "    </tr>\n",
              "  </tbody>\n",
              "</table>\n",
              "</div>"
            ],
            "text/plain": [
              "                              Address  Cars  Bluecar counter  ...  day  hour  minute\n",
              "0                 2 Avenue de Suffren     0                0  ...    8    11      43\n",
              "1           145 Rue Raymond Losserand     6                6  ...    6     7      24\n",
              "2    2 Avenue John Fitzgerald Kennedy     3                3  ...    3    20      14\n",
              "3          51 Rue EugÃÂ¨ne OudinÃÂ©     3                3  ...    4     4      37\n",
              "4  6 avenue de la Porte de Champerret     3                3  ...    8    17      23\n",
              "\n",
              "[5 rows x 25 columns]"
            ]
          },
          "metadata": {
            "tags": []
          },
          "execution_count": 270
        }
      ]
    },
    {
      "cell_type": "markdown",
      "metadata": {
        "id": "Eonqi8_oBb1A"
      },
      "source": [
        "1.1.1 Data Mining"
      ]
    },
    {
      "cell_type": "code",
      "metadata": {
        "colab": {
          "base_uri": "https://localhost:8080/"
        },
        "id": "fnT4r0rqCueq",
        "outputId": "03675218-5fb3-4870-d773-7358bbdc80d2"
      },
      "source": [
        "# Accessing information in the dataset\n",
        "data.info()"
      ],
      "execution_count": 271,
      "outputs": [
        {
          "output_type": "stream",
          "text": [
            "<class 'pandas.core.frame.DataFrame'>\n",
            "RangeIndex: 5000 entries, 0 to 4999\n",
            "Data columns (total 25 columns):\n",
            " #   Column               Non-Null Count  Dtype \n",
            "---  ------               --------------  ----- \n",
            " 0   Address              5000 non-null   object\n",
            " 1   Cars                 5000 non-null   int64 \n",
            " 2   Bluecar counter      5000 non-null   int64 \n",
            " 3   Utilib counter       5000 non-null   int64 \n",
            " 4   Utilib 1.4 counter   5000 non-null   int64 \n",
            " 5   Charge Slots         5000 non-null   int64 \n",
            " 6   Charging Status      5000 non-null   object\n",
            " 7   City                 5000 non-null   object\n",
            " 8   Displayed comment    111 non-null    object\n",
            " 9   ID                   5000 non-null   object\n",
            " 10  Kind                 5000 non-null   object\n",
            " 11  Geo point            5000 non-null   object\n",
            " 12  Postal code          5000 non-null   int64 \n",
            " 13  Public name          5000 non-null   object\n",
            " 14  Rental status        5000 non-null   object\n",
            " 15  Scheduled at         47 non-null     object\n",
            " 16  Slots                5000 non-null   int64 \n",
            " 17  Station type         5000 non-null   object\n",
            " 18  Status               5000 non-null   object\n",
            " 19  Subscription status  5000 non-null   object\n",
            " 20  year                 5000 non-null   int64 \n",
            " 21  month                5000 non-null   int64 \n",
            " 22  day                  5000 non-null   int64 \n",
            " 23  hour                 5000 non-null   int64 \n",
            " 24  minute               5000 non-null   int64 \n",
            "dtypes: int64(12), object(13)\n",
            "memory usage: 976.7+ KB\n"
          ],
          "name": "stdout"
        }
      ]
    },
    {
      "cell_type": "markdown",
      "metadata": {
        "id": "e-zT0XZsF8fo"
      },
      "source": [
        "# 2.0 Data Cleaning"
      ]
    },
    {
      "cell_type": "markdown",
      "metadata": {
        "id": "74tB5ZfmHDBN"
      },
      "source": [
        "# 2.1 *Completeness*"
      ]
    },
    {
      "cell_type": "code",
      "metadata": {
        "colab": {
          "base_uri": "https://localhost:8080/"
        },
        "id": "YafMZf0aG8L3",
        "outputId": "df01cd59-b579-4733-dfab-717b9fc58492"
      },
      "source": [
        "# Checking for completeness of data\n",
        "# check for missing values across all columns in the dataset\n",
        "missing_values = data.isnull().any()\n",
        "print(missing_values)\n",
        "\n",
        "# counting the number of missing values in the dataset in the columns\n",
        "count_missing = data.isnull().sum()\n",
        "print(count_missing)"
      ],
      "execution_count": 272,
      "outputs": [
        {
          "output_type": "stream",
          "text": [
            "Address                False\n",
            "Cars                   False\n",
            "Bluecar counter        False\n",
            "Utilib counter         False\n",
            "Utilib 1.4 counter     False\n",
            "Charge Slots           False\n",
            "Charging Status        False\n",
            "City                   False\n",
            "Displayed comment       True\n",
            "ID                     False\n",
            "Kind                   False\n",
            "Geo point              False\n",
            "Postal code            False\n",
            "Public name            False\n",
            "Rental status          False\n",
            "Scheduled at            True\n",
            "Slots                  False\n",
            "Station type           False\n",
            "Status                 False\n",
            "Subscription status    False\n",
            "year                   False\n",
            "month                  False\n",
            "day                    False\n",
            "hour                   False\n",
            "minute                 False\n",
            "dtype: bool\n",
            "Address                   0\n",
            "Cars                      0\n",
            "Bluecar counter           0\n",
            "Utilib counter            0\n",
            "Utilib 1.4 counter        0\n",
            "Charge Slots              0\n",
            "Charging Status           0\n",
            "City                      0\n",
            "Displayed comment      4889\n",
            "ID                        0\n",
            "Kind                      0\n",
            "Geo point                 0\n",
            "Postal code               0\n",
            "Public name               0\n",
            "Rental status             0\n",
            "Scheduled at           4953\n",
            "Slots                     0\n",
            "Station type              0\n",
            "Status                    0\n",
            "Subscription status       0\n",
            "year                      0\n",
            "month                     0\n",
            "day                       0\n",
            "hour                      0\n",
            "minute                    0\n",
            "dtype: int64\n"
          ],
          "name": "stdout"
        }
      ]
    },
    {
      "cell_type": "markdown",
      "metadata": {
        "id": "h-LcCK1FFxAR"
      },
      "source": [
        "# 2.2 *Consistency*"
      ]
    },
    {
      "cell_type": "code",
      "metadata": {
        "colab": {
          "base_uri": "https://localhost:8080/"
        },
        "id": "FH3wCkw-JorJ",
        "outputId": "5cb72c96-7988-42ca-9c9f-c3ea7fb96660"
      },
      "source": [
        "# checking for Consistency of data\n",
        "# \n",
        "# check for any duplicates in the dataset\n",
        "duplicates = data.duplicated().any()\n",
        "print(duplicates)"
      ],
      "execution_count": 273,
      "outputs": [
        {
          "output_type": "stream",
          "text": [
            "False\n"
          ],
          "name": "stdout"
        }
      ]
    },
    {
      "cell_type": "markdown",
      "metadata": {
        "id": "dv_U8dyeFO4l"
      },
      "source": [
        "# 2.3 *Validity*"
      ]
    },
    {
      "cell_type": "code",
      "metadata": {
        "colab": {
          "base_uri": "https://localhost:8080/"
        },
        "id": "dWjmBZyQoD1C",
        "outputId": "696f0dd9-d716-4b6e-9cf9-143e39d9ae34"
      },
      "source": [
        "# Checking for Validity of data\n",
        "# Drop irrelevant columns\n",
        "# Drop Displayed comment and Scheduled at columns since they also have alot of missing values\n",
        "d1 = data.drop(['Cars','Displayed comment', 'Scheduled at','Charge Slots', 'Charging Status', 'ID','Kind'], axis=1)\n",
        "# The remaining rows and columns\n",
        "d1.shape"
      ],
      "execution_count": 274,
      "outputs": [
        {
          "output_type": "execute_result",
          "data": {
            "text/plain": [
              "(5000, 18)"
            ]
          },
          "metadata": {
            "tags": []
          },
          "execution_count": 274
        }
      ]
    },
    {
      "cell_type": "code",
      "metadata": {
        "id": "-cyA_GZjIN6T"
      },
      "source": [
        "# # Create a Date column  by merging year, month and day columns\n",
        "# # convert the dataype from int64 to str\n",
        "# d1[['year', 'month', 'day']] = d1[['year', 'month', 'day']].astype(str)\n",
        "# # Intro a new column(Date) \n",
        "# d1['Date'] = d1['year'] + '-' + d1['month'] + '-' + d1['day']\n",
        "# # change the new column to datetime\n",
        "# d1['Date'] = pd.to_datetime(d1['Date'])\n",
        "# # drop the columns since they will not be used anymore\n",
        "# d1.drop(labels=['year', 'month', 'day'], axis=1, inplace=True)\n",
        "# d1"
      ],
      "execution_count": 275,
      "outputs": []
    },
    {
      "cell_type": "markdown",
      "metadata": {
        "id": "qtRlvL00FAV_"
      },
      "source": [
        "# 2.4 *Uniformity*"
      ]
    },
    {
      "cell_type": "code",
      "metadata": {
        "colab": {
          "base_uri": "https://localhost:8080/"
        },
        "id": "ZWIos3NExawr",
        "outputId": "bc6dad73-ba46-4b63-f8a5-645a10ea11ff"
      },
      "source": [
        "#Uniformity of data\n",
        "# Getting rid of the whitespaces and any leading and trailing spaces in columns\n",
        "d1.columns.str.strip()\n"
      ],
      "execution_count": 276,
      "outputs": [
        {
          "output_type": "execute_result",
          "data": {
            "text/plain": [
              "Index(['Address', 'Bluecar counter', 'Utilib counter', 'Utilib 1.4 counter',\n",
              "       'City', 'Geo point', 'Postal code', 'Public name', 'Rental status',\n",
              "       'Slots', 'Station type', 'Status', 'Subscription status', 'year',\n",
              "       'month', 'day', 'hour', 'minute'],\n",
              "      dtype='object')"
            ]
          },
          "metadata": {
            "tags": []
          },
          "execution_count": 276
        }
      ]
    },
    {
      "cell_type": "code",
      "metadata": {
        "colab": {
          "base_uri": "https://localhost:8080/",
          "height": 433
        },
        "id": "DGmN0oTvYnp_",
        "outputId": "213f7435-269b-46fc-8bcc-d691ff5e3ea4"
      },
      "source": [
        "# Rename Bluecar counter to Bluecar, Utilib counter to Utilib, Utilib 1.4 counter to Utilib 1.4\n",
        "d2 = d1.rename(columns={'Bluecar counter' : 'Bluecar', 'Utilib counter': 'Utilib', 'Utilib 1.4 counter': 'Utilib1'})\n",
        "d2.head()"
      ],
      "execution_count": 277,
      "outputs": [
        {
          "output_type": "execute_result",
          "data": {
            "text/html": [
              "<div>\n",
              "<style scoped>\n",
              "    .dataframe tbody tr th:only-of-type {\n",
              "        vertical-align: middle;\n",
              "    }\n",
              "\n",
              "    .dataframe tbody tr th {\n",
              "        vertical-align: top;\n",
              "    }\n",
              "\n",
              "    .dataframe thead th {\n",
              "        text-align: right;\n",
              "    }\n",
              "</style>\n",
              "<table border=\"1\" class=\"dataframe\">\n",
              "  <thead>\n",
              "    <tr style=\"text-align: right;\">\n",
              "      <th></th>\n",
              "      <th>Address</th>\n",
              "      <th>Bluecar</th>\n",
              "      <th>Utilib</th>\n",
              "      <th>Utilib1</th>\n",
              "      <th>City</th>\n",
              "      <th>Geo point</th>\n",
              "      <th>Postal code</th>\n",
              "      <th>Public name</th>\n",
              "      <th>Rental status</th>\n",
              "      <th>Slots</th>\n",
              "      <th>Station type</th>\n",
              "      <th>Status</th>\n",
              "      <th>Subscription status</th>\n",
              "      <th>year</th>\n",
              "      <th>month</th>\n",
              "      <th>day</th>\n",
              "      <th>hour</th>\n",
              "      <th>minute</th>\n",
              "    </tr>\n",
              "  </thead>\n",
              "  <tbody>\n",
              "    <tr>\n",
              "      <th>0</th>\n",
              "      <td>2 Avenue de Suffren</td>\n",
              "      <td>0</td>\n",
              "      <td>0</td>\n",
              "      <td>0</td>\n",
              "      <td>Paris</td>\n",
              "      <td>48.857, 2.2917</td>\n",
              "      <td>75015</td>\n",
              "      <td>Paris/Suffren/2</td>\n",
              "      <td>operational</td>\n",
              "      <td>2</td>\n",
              "      <td>station</td>\n",
              "      <td>ok</td>\n",
              "      <td>nonexistent</td>\n",
              "      <td>2018</td>\n",
              "      <td>4</td>\n",
              "      <td>8</td>\n",
              "      <td>11</td>\n",
              "      <td>43</td>\n",
              "    </tr>\n",
              "    <tr>\n",
              "      <th>1</th>\n",
              "      <td>145 Rue Raymond Losserand</td>\n",
              "      <td>6</td>\n",
              "      <td>0</td>\n",
              "      <td>0</td>\n",
              "      <td>Paris</td>\n",
              "      <td>48.83126, 2.313088</td>\n",
              "      <td>75014</td>\n",
              "      <td>Paris/Raymond Losserand/145</td>\n",
              "      <td>operational</td>\n",
              "      <td>0</td>\n",
              "      <td>station</td>\n",
              "      <td>ok</td>\n",
              "      <td>nonexistent</td>\n",
              "      <td>2018</td>\n",
              "      <td>4</td>\n",
              "      <td>6</td>\n",
              "      <td>7</td>\n",
              "      <td>24</td>\n",
              "    </tr>\n",
              "    <tr>\n",
              "      <th>2</th>\n",
              "      <td>2 Avenue John Fitzgerald Kennedy</td>\n",
              "      <td>3</td>\n",
              "      <td>0</td>\n",
              "      <td>2</td>\n",
              "      <td>Le Bourget</td>\n",
              "      <td>48.938103, 2.4286035</td>\n",
              "      <td>93350</td>\n",
              "      <td>Le Bourget/John Fitzgerald Kennedy/2</td>\n",
              "      <td>operational</td>\n",
              "      <td>1</td>\n",
              "      <td>station</td>\n",
              "      <td>ok</td>\n",
              "      <td>nonexistent</td>\n",
              "      <td>2018</td>\n",
              "      <td>4</td>\n",
              "      <td>3</td>\n",
              "      <td>20</td>\n",
              "      <td>14</td>\n",
              "    </tr>\n",
              "    <tr>\n",
              "      <th>3</th>\n",
              "      <td>51 Rue EugÃÂ¨ne OudinÃÂ©</td>\n",
              "      <td>3</td>\n",
              "      <td>1</td>\n",
              "      <td>0</td>\n",
              "      <td>Paris</td>\n",
              "      <td>48.8250327, 2.3725162</td>\n",
              "      <td>75013</td>\n",
              "      <td>Paris/EugÃÂ¨ne OudinÃÂ©/51</td>\n",
              "      <td>operational</td>\n",
              "      <td>2</td>\n",
              "      <td>station</td>\n",
              "      <td>ok</td>\n",
              "      <td>nonexistent</td>\n",
              "      <td>2018</td>\n",
              "      <td>4</td>\n",
              "      <td>4</td>\n",
              "      <td>4</td>\n",
              "      <td>37</td>\n",
              "    </tr>\n",
              "    <tr>\n",
              "      <th>4</th>\n",
              "      <td>6 avenue de la Porte de Champerret</td>\n",
              "      <td>3</td>\n",
              "      <td>0</td>\n",
              "      <td>0</td>\n",
              "      <td>Paris</td>\n",
              "      <td>48.8862632, 2.2874511</td>\n",
              "      <td>75017</td>\n",
              "      <td>Paris/Porte de Champerret/6</td>\n",
              "      <td>operational</td>\n",
              "      <td>3</td>\n",
              "      <td>station</td>\n",
              "      <td>ok</td>\n",
              "      <td>nonexistent</td>\n",
              "      <td>2018</td>\n",
              "      <td>4</td>\n",
              "      <td>8</td>\n",
              "      <td>17</td>\n",
              "      <td>23</td>\n",
              "    </tr>\n",
              "  </tbody>\n",
              "</table>\n",
              "</div>"
            ],
            "text/plain": [
              "                              Address  Bluecar  Utilib  ...  day hour minute\n",
              "0                 2 Avenue de Suffren        0       0  ...    8   11     43\n",
              "1           145 Rue Raymond Losserand        6       0  ...    6    7     24\n",
              "2    2 Avenue John Fitzgerald Kennedy        3       0  ...    3   20     14\n",
              "3          51 Rue EugÃÂ¨ne OudinÃÂ©        3       1  ...    4    4     37\n",
              "4  6 avenue de la Porte de Champerret        3       0  ...    8   17     23\n",
              "\n",
              "[5 rows x 18 columns]"
            ]
          },
          "metadata": {
            "tags": []
          },
          "execution_count": 277
        }
      ]
    },
    {
      "cell_type": "markdown",
      "metadata": {
        "id": "pLcFarlT5ZsO"
      },
      "source": [
        "# 3.0  Data Analysis"
      ]
    },
    {
      "cell_type": "code",
      "metadata": {
        "colab": {
          "base_uri": "https://localhost:8080/"
        },
        "id": "4ky6TkNT5ivb",
        "outputId": "a40111ca-1104-4f8c-cb60-b4cd7686424a"
      },
      "source": [
        "# To answer the research questions\n",
        "# Research Q1 : Identify the most popular hour of the day for picking up a shared electric car (Bluecar) in the city of Paris over the month of April 2018.\n",
        "Bluecar_pop_hour = d2.hour[(d2['City'] == 'Paris') & (d2['month'] == 4) & (d2['year'] == 2018) & (d2['Rental status'] == 'operational') & (d2.Bluecar)].mode()\n",
        "Bluecar_pop_hour\n",
        "# The 12th hour is the moat popular hour to pick Bluecar in Paris "
      ],
      "execution_count": 278,
      "outputs": [
        {
          "output_type": "execute_result",
          "data": {
            "text/plain": [
              "0    12\n",
              "dtype: int64"
            ]
          },
          "metadata": {
            "tags": []
          },
          "execution_count": 278
        }
      ]
    },
    {
      "cell_type": "code",
      "metadata": {
        "colab": {
          "base_uri": "https://localhost:8080/"
        },
        "id": "4R4Cdd66PMae",
        "outputId": "1195fb18-90ff-4f8c-8b9c-5e67c6e5c4f5"
      },
      "source": [
        "# Research Q2:What is the most popular hour for returning cars?\n",
        "pop_return_hour = d2.hour[d2['Slots']].mode()\n",
        "pop_return_hour\n",
        "# The 11th hour is the most popular hour for returning cars"
      ],
      "execution_count": 279,
      "outputs": [
        {
          "output_type": "execute_result",
          "data": {
            "text/plain": [
              "0    11\n",
              "dtype: int64"
            ]
          },
          "metadata": {
            "tags": []
          },
          "execution_count": 279
        }
      ]
    },
    {
      "cell_type": "code",
      "metadata": {
        "colab": {
          "base_uri": "https://localhost:8080/"
        },
        "id": "a3grOd7SbyG7",
        "outputId": "26ba1cbe-be0e-4e4c-ad62-7fb6d0cf72a3"
      },
      "source": [
        "# Research Q3: What station is the most popular?\n",
        "# Overall?\n",
        "pop_station = d2['Public name'].value_counts()[:1].index.tolist()\n",
        "pop_station\n",
        "# Paris/Porte de Montrouge/8 is the most popular station"
      ],
      "execution_count": 280,
      "outputs": [
        {
          "output_type": "execute_result",
          "data": {
            "text/plain": [
              "['Paris/Porte de Montrouge/8']"
            ]
          },
          "metadata": {
            "tags": []
          },
          "execution_count": 280
        }
      ]
    },
    {
      "cell_type": "code",
      "metadata": {
        "colab": {
          "base_uri": "https://localhost:8080/"
        },
        "id": "crgzZfhSe_B9",
        "outputId": "a3e7c41c-eb52-48b3-81cc-5a12d729999b"
      },
      "source": [
        "# At the most popular picking hour?\n",
        "pop_station_hour = d2.hour[(d2['Public name'] == 'Paris/Porte de Montrouge/8') & (d2['Rental status'] == 'operational')].mode()\n",
        "pop_station_hour\n",
        "# The 19th hour is most popular picking  hour at Paris/Porte de Montrouge/8"
      ],
      "execution_count": 281,
      "outputs": [
        {
          "output_type": "execute_result",
          "data": {
            "text/plain": [
              "0    19\n",
              "dtype: int64"
            ]
          },
          "metadata": {
            "tags": []
          },
          "execution_count": 281
        }
      ]
    },
    {
      "cell_type": "code",
      "metadata": {
        "colab": {
          "base_uri": "https://localhost:8080/"
        },
        "id": "T0hc5OiRlwo5",
        "outputId": "8271ad9f-4034-4908-d3c0-2eb595288eb5"
      },
      "source": [
        "# Research Q4:What postal code is the most popular for picking up Blue cars? # Does the most popular station belong to that postal code?\n",
        "# Overall?\n",
        "Bluecar_pop_postcode =d2[(d2['Postal code'].value_counts()[:1].index.tolist()) & (d2['Rental status'] == 'operational') & (d2.Bluecar)].head(1)\n",
        "print(Bluecar_pop_postcode)\n",
        "# The most popular postal code is 93350\n",
        "# Does the most popular station belong to that postal code? \n",
        "pop_station = d2[['Public name', 'Postal code']].value_counts()[:1].index.tolist()\n",
        "print(pop_station)\n",
        "# The most popular station does not belong to that postal code\n"
      ],
      "execution_count": 282,
      "outputs": [
        {
          "output_type": "stream",
          "text": [
            "                            Address  Bluecar  Utilib  ...  day hour minute\n",
            "2  2 Avenue John Fitzgerald Kennedy        3       0  ...    3   20     14\n",
            "\n",
            "[1 rows x 18 columns]\n",
            "[('Paris/Porte de Montrouge/8', 75014)]\n"
          ],
          "name": "stdout"
        }
      ]
    },
    {
      "cell_type": "code",
      "metadata": {
        "colab": {
          "base_uri": "https://localhost:8080/"
        },
        "id": "M2YGjBrgtVjl",
        "outputId": "dfd4fdb4-12f5-4cc5-b608-d4542a844c39"
      },
      "source": [
        "# At the most popular picking hour?\n",
        "pop_postcode_hour = d2.hour[(d2['Postal code'] == 93350) & (d2['Rental status'] == 'operational')].mode()\n",
        "pop_postcode_hour\n",
        "# The 6th hour is the most popular picking hour in that postal code"
      ],
      "execution_count": 283,
      "outputs": [
        {
          "output_type": "execute_result",
          "data": {
            "text/plain": [
              "0    6\n",
              "dtype: int64"
            ]
          },
          "metadata": {
            "tags": []
          },
          "execution_count": 283
        }
      ]
    },
    {
      "cell_type": "code",
      "metadata": {
        "colab": {
          "base_uri": "https://localhost:8080/"
        },
        "id": "kvZDHeCAl6rG",
        "outputId": "426b8ba8-9749-494b-be04-d2b9741efaaf"
      },
      "source": [
        "# Research Q5: Do the results change if you consider Utilib and Utilib 1.4 instead of Blue cars? \n",
        "# When we consider Utitib\n",
        "Utilib_pop_hour = d2.hour[(d2['City'] == 'Paris') & (d2['month'] == 4) & (d2['year'] == 2018) & (d2['Rental status'] == 'operational') & (d2.Utilib)].mode()\n",
        "print(Utilib_pop_hour)\n",
        "\n",
        "# When we consider Utilib 1.4 for example in Paris\n",
        "Utilib1_pop_hour = d2.hour[(d2['City'] == 'Paris') & (d2['month'] == 4) & (d2['year'] == 2018) & (d2['Rental status'] == 'operational') & (d2.Utilib1)].mode()\n",
        "print(Utilib1_pop_hour)\n",
        "# # There's a clear and significant change in popular hours for picking up the Utilib cars in the stations"
      ],
      "execution_count": 284,
      "outputs": [
        {
          "output_type": "stream",
          "text": [
            "0    6\n",
            "dtype: int64\n",
            "0    9\n",
            "dtype: int64\n"
          ],
          "name": "stdout"
        }
      ]
    }
  ]
}